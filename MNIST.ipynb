{
 "cells": [
  {
   "cell_type": "code",
   "execution_count": 76,
   "metadata": {},
   "outputs": [],
   "source": [
    "import numpy as np\n",
    "import matplotlib.pyplot as plt\n",
    "\n",
    "\n",
    "#Keras\n",
    "from keras.models import Sequential\n",
    "from keras.datasets import mnist\n",
    "from keras.layers import Dense, Conv2D, MaxPooling2D, Dropout, Flatten\n",
    "from keras.utils import to_categorical"
   ]
  },
  {
   "cell_type": "code",
   "execution_count": 198,
   "metadata": {},
   "outputs": [],
   "source": [
    "(x_train, y_train), (x_test, y_test) = mnist.load_data()"
   ]
  },
  {
   "cell_type": "markdown",
   "metadata": {},
   "source": [
    "# Let's Get a feel for training and testing data\n",
    "getting a feel for the data is very important so you know how to work with it. We've randomly initialized some numbers and print their values. It's also important to note how the outputs are stored (are they one-hot encoded) or printed in base ten in a normal array. Clarifying through this well help us better understand our data and see what possible conversions we may have to do!"
   ]
  },
  {
   "cell_type": "code",
   "execution_count": 262,
   "metadata": {},
   "outputs": [
    {
     "name": "stdout",
     "output_type": "stream",
     "text": [
      "Random Index: 14418\n",
      "Shape of image: (28, 28)\n",
      "[[  0   0   0   0   0   0   0   0   0   0   0   0   0   0   0   0   0   0\n",
      "    0   0   0   0   0   0   0   0   0   0]\n",
      " [  0   0   0   0   0   0   0   0   0   0   0   0   0   0   0   0   0   0\n",
      "    0   0   0   0   0   0   0   0   0   0]\n",
      " [  0   0   0   0   0   0   0   0   0   0   0   0   0   0   0   0   0   0\n",
      "    0   0   0   0   0   0   0   0   0   0]\n",
      " [  0   0   0   0   0   0   0   0   0  39 226 154  38   0   0   0   0   0\n",
      "    0   0   0   0   0   0   0   0   0   0]\n",
      " [  0   0   0   0   0   0   0   0   0 136 252 252 205   0   0   0   0   0\n",
      "    0   0   0   0   0   0   0   0   0   0]\n",
      " [  0   0   0   0   0   0   0   0   0 213 252 252 162   0   0   0   0   0\n",
      "    0   0   0   0   0   0   0   0   0   0]\n",
      " [  0   0   0   0   0   0   0   0 122 246 252 235  54   0   0   0   0   0\n",
      "    0   0   0   0   0   0   0   0   0   0]\n",
      " [  0   0   0   0   0   0   0   0 226 252 252  93   0   0   0   0   0   0\n",
      "    0   0   0   0   0   0   0   0   0   0]\n",
      " [  0   0   0   0   0   0   0  23 232 252 252  66   0   0   0   0   0   0\n",
      "   49   9   0   0   0   0   0   0   0   0]\n",
      " [  0   0   0   0   0   0   0 128 252 252 206  21   0   0   0   0  41 167\n",
      "  244 185 138  32   0   0   0   0   0   0]\n",
      " [  0   0   0   0   0   0   0 240 252 252 101   0   0   0   2  98 253 252\n",
      "  252 252 252 232 139  10   0   0   0   0]\n",
      " [  0   0   0   0   0   0  70 247 252 205  22   0   0   0  92 252 253 252\n",
      "  252 252 252 252 252 169   0   0   0   0]\n",
      " [  0   0   0   0   0   0 121 252 252 172   0   0   0   0 146 252 253 252\n",
      "  202 119 119 147 252 225   0   0   0   0]\n",
      " [  0   0   0   0   0   0 121 253 253 173   0   0   0  13 197 253 255 146\n",
      "    0   0   0  29 216 239  51   0   0   0]\n",
      " [  0   0   0   0   0   0 121 252 252  46   0   0   0  27 252 252 253  19\n",
      "    0   0   0   0 173 252 232   0   0   0]\n",
      " [  0   0   0   0   0   0 121 252 252  39   0   0   0 146 252 252 209   8\n",
      "    0   0   0   0 173 252 238   0   0   0]\n",
      " [  0   0   0   0   0   0 121 252 252  39   0   0   0 160 252 252  92   0\n",
      "    0   0   0  46 240 252 238   0   0   0]\n",
      " [  0   0   0   0   0   0 121 252 252  39   0   0   0 125 252 252   0   0\n",
      "    0   0  18 176 252 245 106   0   0   0]\n",
      " [  0   0   0   0   0   0  32 243 252 137   0   0   0 126 252 252  99   0\n",
      "    0   0  96 252 252 225   0   0   0   0]\n",
      " [  0   0   0   0   0   0   0 219 252 227 138  11   0 160 252 252 152   2\n",
      "    0  77 236 252 252 204   0   0   0   0]\n",
      " [  0   0   0   0   0   0   0  39 212 234 252  86  23  76 252 252 253  38\n",
      "  146 238 252 252 212  34   0   0   0   0]\n",
      " [  0   0   0   0   0   0   0   0   0  76 249 252 235 158 252 252 253 252\n",
      "  252 252 248 210  33   0   0   0   0   0]\n",
      " [  0   0   0   0   0   0   0   0   0   0 129 252 252 252 252 252 253 252\n",
      "  252 209  88   0   0   0   0   0   0   0]\n",
      " [  0   0   0   0   0   0   0   0   0   0   0   0   0   0   0   0   0   0\n",
      "    0   0   0   0   0   0   0   0   0   0]\n",
      " [  0   0   0   0   0   0   0   0   0   0   0   0   0   0   0   0   0   0\n",
      "    0   0   0   0   0   0   0   0   0   0]\n",
      " [  0   0   0   0   0   0   0   0   0   0   0   0   0   0   0   0   0   0\n",
      "    0   0   0   0   0   0   0   0   0   0]\n",
      " [  0   0   0   0   0   0   0   0   0   0   0   0   0   0   0   0   0   0\n",
      "    0   0   0   0   0   0   0   0   0   0]\n",
      " [  0   0   0   0   0   0   0   0   0   0   0   0   0   0   0   0   0   0\n",
      "    0   0   0   0   0   0   0   0   0   0]]\n"
     ]
    },
    {
     "data": {
      "image/png": "[encoded data removed]",
      "text/plain": [
       "<Figure size 432x288 with 1 Axes>"
      ]
     },
     "metadata": {
      "needs_background": "light"
     },
     "output_type": "display_data"
    }
   ],
   "source": [
    "randomIndx = np.random.randint(60000)\n",
    "\n",
    "print(\"Random Index: {}\".format(randomIndx))\n",
    "plt.imshow(x_train[randomIndx], cmap = 'gray')\n",
    "plt.title(y_train[randomIndx])\n",
    "print(\"Shape of image: {}\".format(np.shape(x_train[randomIndx])))\n",
    "\n",
    "print(x_train[randomIndx])\n",
    "\n",
    "# randomIndx = np.random.randint(10000)"
   ]
  },
  {
   "cell_type": "markdown",
   "metadata": {},
   "source": [
    "### We should note a couple things:\n",
    "1. Size of the images ar (28,28). Note the single channel. There are no 3 Dimensions. Knowing this will be helpful when we set up our Network.\n",
    "2. The outputs ( _y_test_ and _y_train_) are both column arrays that contain the VALUE of the output. This is helpful because now we know how to manage conversion of this data (if we have to ... we haven't made that decision yet)."
   ]
  },
  {
   "cell_type": "markdown",
   "metadata": {},
   "source": [
    "### Lets plot it"
   ]
  },
  {
   "cell_type": "code",
   "execution_count": 54,
   "metadata": {},
   "outputs": [
    {
     "data": {
      "image/png": "[encoded data removed]",
      "text/plain": [
       "<Figure size 432x288 with 1 Axes>"
      ]
     },
     "metadata": {
      "needs_background": "light"
     },
     "output_type": "display_data"
    }
   ],
   "source": [
    "plt.hist(y_train)\n",
    "plt.show()"
   ]
  },
  {
   "cell_type": "markdown",
   "metadata": {},
   "source": [
    "# Final Manipulation to Data\n",
    "We know the data in y_train and y_test are encoded with the values themselves. We'll have to convert this into a matrix that represents which value it is. It's currently has the shape (60000,1) with each row representing a value. What we want, and more specifically what TensorFlow wants is a matrix of the shape (60000,10). In each row, one column will have a 1, and that column represents which number it is."
   ]
  },
  {
   "cell_type": "code",
   "execution_count": 59,
   "metadata": {},
   "outputs": [
    {
     "data": {
      "text/plain": [
       "array([5, 0, 4, ..., 5, 6, 8], dtype=uint8)"
      ]
     },
     "execution_count": 59,
     "metadata": {},
     "output_type": "execute_result"
    }
   ],
   "source": [
    "y_train"
   ]
  },
  {
   "cell_type": "code",
   "execution_count": 64,
   "metadata": {},
   "outputs": [],
   "source": [
    "y_train = to_categorical(y = y_train, num_classes = 10)"
   ]
  },
  {
   "cell_type": "code",
   "execution_count": 66,
   "metadata": {},
   "outputs": [
    {
     "data": {
      "text/plain": [
       "array([0., 0., 0., 0., 0., 1., 0., 0., 0., 0.], dtype=float32)"
      ]
     },
     "execution_count": 66,
     "metadata": {},
     "output_type": "execute_result"
    }
   ],
   "source": [
    "y_train[0]"
   ]
  },
  {
   "cell_type": "markdown",
   "metadata": {},
   "source": [
    "y_train is now encoded in a one-hot format. Instead of y_train[0] = 5, it is now y_train = [0,0,0,0,0,1,0,0,0,0]. The sixth element is lit up, so that represents the number 5 (again, zero-indexed)!"
   ]
  },
  {
   "cell_type": "markdown",
   "metadata": {},
   "source": [
    "We have to tell Keras the dimensions we'll be iputting, so we define that with the numShape variable. We remove the first index, because that's not the actual SHAPE of the inputs. "
   ]
  },
  {
   "cell_type": "code",
   "execution_count": 84,
   "metadata": {},
   "outputs": [
    {
     "data": {
      "text/plain": [
       "(28, 28, 1)"
      ]
     },
     "execution_count": 84,
     "metadata": {},
     "output_type": "execute_result"
    }
   ],
   "source": [
    "inputShape = np.shape(x_train)\n",
    "inputShape = (inputShape[1], inputShape[2], 1)\n",
    "inputShape"
   ]
  },
  {
   "cell_type": "markdown",
   "metadata": {},
   "source": [
    "# Build the ConvNet"
   ]
  },
  {
   "cell_type": "code",
   "execution_count": 85,
   "metadata": {},
   "outputs": [],
   "source": [
    "model = Sequential()\n",
    "model.add(Conv2D(32, kernel_size = (5,5), activation = 'relu', input_shape = inputShape))\n",
    "model.add(MaxPooling2D(pool_size = (2,2)))\n",
    "model.add(Conv2D(64, kernel_size = (5,5), activation = 'relu'))\n",
    "model.add(MaxPooling2D(pool_size = (2,2)))\n",
    "model.add(Flatten())\n",
    "model.add(Dropout(0.25))\n",
    "model.add(Dense(100, activation = 'relu'))\n",
    "model.add(Dense(10, activation = 'softmax'))"
   ]
  },
  {
   "cell_type": "code",
   "execution_count": 86,
   "metadata": {},
   "outputs": [
    {
     "name": "stdout",
     "output_type": "stream",
     "text": [
      "_________________________________________________________________\n",
      "Layer (type)                 Output Shape              Param #   \n",
      "=================================================================\n",
      "conv2d_8 (Conv2D)            (None, 24, 24, 32)        832       \n",
      "_________________________________________________________________\n",
      "max_pooling2d_7 (MaxPooling2 (None, 12, 12, 32)        0         \n",
      "_________________________________________________________________\n",
      "conv2d_9 (Conv2D)            (None, 8, 8, 64)          51264     \n",
      "_________________________________________________________________\n",
      "max_pooling2d_8 (MaxPooling2 (None, 4, 4, 64)          0         \n",
      "_________________________________________________________________\n",
      "flatten_3 (Flatten)          (None, 1024)              0         \n",
      "_________________________________________________________________\n",
      "dropout_3 (Dropout)          (None, 1024)              0         \n",
      "_________________________________________________________________\n",
      "dense_4 (Dense)              (None, 100)               102500    \n",
      "_________________________________________________________________\n",
      "dense_5 (Dense)              (None, 10)                1010      \n",
      "=================================================================\n",
      "Total params: 155,606\n",
      "Trainable params: 155,606\n",
      "Non-trainable params: 0\n",
      "_________________________________________________________________\n"
     ]
    }
   ],
   "source": [
    "model.summary()"
   ]
  },
  {
   "cell_type": "code",
   "execution_count": 87,
   "metadata": {},
   "outputs": [],
   "source": [
    "model.compile(loss = 'categorical_crossentropy',\n",
    "             optimizer = 'adam',\n",
    "             metrics = ['accuracy'])"
   ]
  },
  {
   "cell_type": "code",
   "execution_count": 88,
   "metadata": {},
   "outputs": [
    {
     "ename": "ValueError",
     "evalue": "Error when checking input: expected conv2d_8_input to have 4 dimensions, but got array with shape (60000, 28, 28)",
     "output_type": "error",
     "traceback": [
      "\u001b[0;31m---------------------------------------------------------------------------\u001b[0m",
      "\u001b[0;31mValueError\u001b[0m                                Traceback (most recent call last)",
      "\u001b[0;32m<ipython-input-88-0ecd81fb5dda>\u001b[0m in \u001b[0;36m<module>\u001b[0;34m\u001b[0m\n\u001b[0;32m----> 1\u001b[0;31m \u001b[0mmodel\u001b[0m\u001b[0;34m.\u001b[0m\u001b[0mfit\u001b[0m\u001b[0;34m(\u001b[0m\u001b[0mx_train\u001b[0m\u001b[0;34m,\u001b[0m \u001b[0my_train\u001b[0m\u001b[0;34m,\u001b[0m \u001b[0mepochs\u001b[0m \u001b[0;34m=\u001b[0m \u001b[0;36m10\u001b[0m\u001b[0;34m,\u001b[0m \u001b[0mbatch_size\u001b[0m \u001b[0;34m=\u001b[0m \u001b[0;36m1000\u001b[0m\u001b[0;34m)\u001b[0m\u001b[0;34m\u001b[0m\u001b[0m\n\u001b[0m",
      "\u001b[0;32m/anaconda3/lib/python3.6/site-packages/keras/engine/training.py\u001b[0m in \u001b[0;36mfit\u001b[0;34m(self, x, y, batch_size, epochs, verbose, callbacks, validation_split, validation_data, shuffle, class_weight, sample_weight, initial_epoch, steps_per_epoch, validation_steps, **kwargs)\u001b[0m\n\u001b[1;32m    950\u001b[0m             \u001b[0msample_weight\u001b[0m\u001b[0;34m=\u001b[0m\u001b[0msample_weight\u001b[0m\u001b[0;34m,\u001b[0m\u001b[0;34m\u001b[0m\u001b[0m\n\u001b[1;32m    951\u001b[0m             \u001b[0mclass_weight\u001b[0m\u001b[0;34m=\u001b[0m\u001b[0mclass_weight\u001b[0m\u001b[0;34m,\u001b[0m\u001b[0;34m\u001b[0m\u001b[0m\n\u001b[0;32m--> 952\u001b[0;31m             batch_size=batch_size)\n\u001b[0m\u001b[1;32m    953\u001b[0m         \u001b[0;31m# Prepare validation data.\u001b[0m\u001b[0;34m\u001b[0m\u001b[0;34m\u001b[0m\u001b[0m\n\u001b[1;32m    954\u001b[0m         \u001b[0mdo_validation\u001b[0m \u001b[0;34m=\u001b[0m \u001b[0;32mFalse\u001b[0m\u001b[0;34m\u001b[0m\u001b[0m\n",
      "\u001b[0;32m/anaconda3/lib/python3.6/site-packages/keras/engine/training.py\u001b[0m in \u001b[0;36m_standardize_user_data\u001b[0;34m(self, x, y, sample_weight, class_weight, check_array_lengths, batch_size)\u001b[0m\n\u001b[1;32m    749\u001b[0m             \u001b[0mfeed_input_shapes\u001b[0m\u001b[0;34m,\u001b[0m\u001b[0;34m\u001b[0m\u001b[0m\n\u001b[1;32m    750\u001b[0m             \u001b[0mcheck_batch_axis\u001b[0m\u001b[0;34m=\u001b[0m\u001b[0;32mFalse\u001b[0m\u001b[0;34m,\u001b[0m  \u001b[0;31m# Don't enforce the batch size.\u001b[0m\u001b[0;34m\u001b[0m\u001b[0m\n\u001b[0;32m--> 751\u001b[0;31m             exception_prefix='input')\n\u001b[0m\u001b[1;32m    752\u001b[0m \u001b[0;34m\u001b[0m\u001b[0m\n\u001b[1;32m    753\u001b[0m         \u001b[0;32mif\u001b[0m \u001b[0my\u001b[0m \u001b[0;32mis\u001b[0m \u001b[0;32mnot\u001b[0m \u001b[0;32mNone\u001b[0m\u001b[0;34m:\u001b[0m\u001b[0;34m\u001b[0m\u001b[0m\n",
      "\u001b[0;32m/anaconda3/lib/python3.6/site-packages/keras/engine/training_utils.py\u001b[0m in \u001b[0;36mstandardize_input_data\u001b[0;34m(data, names, shapes, check_batch_axis, exception_prefix)\u001b[0m\n\u001b[1;32m    126\u001b[0m                         \u001b[0;34m': expected '\u001b[0m \u001b[0;34m+\u001b[0m \u001b[0mnames\u001b[0m\u001b[0;34m[\u001b[0m\u001b[0mi\u001b[0m\u001b[0;34m]\u001b[0m \u001b[0;34m+\u001b[0m \u001b[0;34m' to have '\u001b[0m \u001b[0;34m+\u001b[0m\u001b[0;34m\u001b[0m\u001b[0m\n\u001b[1;32m    127\u001b[0m                         \u001b[0mstr\u001b[0m\u001b[0;34m(\u001b[0m\u001b[0mlen\u001b[0m\u001b[0;34m(\u001b[0m\u001b[0mshape\u001b[0m\u001b[0;34m)\u001b[0m\u001b[0;34m)\u001b[0m \u001b[0;34m+\u001b[0m \u001b[0;34m' dimensions, but got array '\u001b[0m\u001b[0;34m\u001b[0m\u001b[0m\n\u001b[0;32m--> 128\u001b[0;31m                         'with shape ' + str(data_shape))\n\u001b[0m\u001b[1;32m    129\u001b[0m                 \u001b[0;32mif\u001b[0m \u001b[0;32mnot\u001b[0m \u001b[0mcheck_batch_axis\u001b[0m\u001b[0;34m:\u001b[0m\u001b[0;34m\u001b[0m\u001b[0m\n\u001b[1;32m    130\u001b[0m                     \u001b[0mdata_shape\u001b[0m \u001b[0;34m=\u001b[0m \u001b[0mdata_shape\u001b[0m\u001b[0;34m[\u001b[0m\u001b[0;36m1\u001b[0m\u001b[0;34m:\u001b[0m\u001b[0;34m]\u001b[0m\u001b[0;34m\u001b[0m\u001b[0m\n",
      "\u001b[0;31mValueError\u001b[0m: Error when checking input: expected conv2d_8_input to have 4 dimensions, but got array with shape (60000, 28, 28)"
     ]
    }
   ],
   "source": [
    "model.fit(x_train, y_train, epochs = 10, batch_size = 1000)"
   ]
  },
  {
   "cell_type": "markdown",
   "metadata": {},
   "source": [
    "oops! I think we may have to add a dimension to let Keras know what to expect. Let's try fixing that."
   ]
  },
  {
   "cell_type": "code",
   "execution_count": 92,
   "metadata": {},
   "outputs": [],
   "source": [
    "x_train = np.expand_dims(x_train, axis = 3)"
   ]
  },
  {
   "cell_type": "code",
   "execution_count": 93,
   "metadata": {},
   "outputs": [
    {
     "data": {
      "text/plain": [
       "(60000, 28, 28, 1)"
      ]
     },
     "execution_count": 93,
     "metadata": {},
     "output_type": "execute_result"
    }
   ],
   "source": [
    "np.shape(x_train)"
   ]
  },
  {
   "cell_type": "markdown",
   "metadata": {},
   "source": [
    "Seems better now ... I think we just had to specify to Keras that _x_train_ only has 1 channel. That addition should fix it. Let's try it now!"
   ]
  },
  {
   "cell_type": "code",
   "execution_count": 94,
   "metadata": {},
   "outputs": [
    {
     "name": "stdout",
     "output_type": "stream",
     "text": [
      "Epoch 1/10\n",
      "60000/60000 [==============================] - 39s 648us/step - loss: 10.4201 - acc: 0.3453\n",
      "Epoch 2/10\n",
      "60000/60000 [==============================] - 39s 645us/step - loss: 9.8047 - acc: 0.3886\n",
      "Epoch 3/10\n",
      "60000/60000 [==============================] - 37s 620us/step - loss: 5.5528 - acc: 0.5855\n",
      "Epoch 4/10\n",
      "60000/60000 [==============================] - 37s 613us/step - loss: 0.1894 - acc: 0.9427\n",
      "Epoch 5/10\n",
      "60000/60000 [==============================] - 37s 614us/step - loss: 0.1073 - acc: 0.9667\n",
      "Epoch 6/10\n",
      "60000/60000 [==============================] - 37s 619us/step - loss: 0.0781 - acc: 0.9761\n",
      "Epoch 7/10\n",
      "60000/60000 [==============================] - 37s 615us/step - loss: 0.0670 - acc: 0.9802\n",
      "Epoch 8/10\n",
      "60000/60000 [==============================] - 37s 617us/step - loss: 0.0557 - acc: 0.9829\n",
      "Epoch 9/10\n",
      "60000/60000 [==============================] - 37s 619us/step - loss: 0.0475 - acc: 0.9846\n",
      "Epoch 10/10\n",
      "60000/60000 [==============================] - 37s 621us/step - loss: 0.0410 - acc: 0.9872\n"
     ]
    },
    {
     "data": {
      "text/plain": [
       "<keras.callbacks.History at 0xb2aecf358>"
      ]
     },
     "execution_count": 94,
     "metadata": {},
     "output_type": "execute_result"
    }
   ],
   "source": [
    "model.fit(x_train, y_train, epochs = 10, batch_size = 1000)"
   ]
  },
  {
   "cell_type": "markdown",
   "metadata": {},
   "source": [
    "# Let's see how we did on a Test Set of data\n",
    "- before we can do that, we must also convert our _y_test_ label into the same format as _y_train_ ... which is one-hot encoded\n",
    "- we must also add another dimension to x_train"
   ]
  },
  {
   "cell_type": "code",
   "execution_count": 124,
   "metadata": {},
   "outputs": [],
   "source": [
    "x_test = np.expand_dims(x_test, axis = 3)\n",
    "y_test = to_categorical(y_test, num_classes = 10)"
   ]
  },
  {
   "cell_type": "markdown",
   "metadata": {},
   "source": [
    "We can now proceed to evaluate our model on training set"
   ]
  },
  {
   "cell_type": "code",
   "execution_count": 131,
   "metadata": {},
   "outputs": [],
   "source": [
    "predictions = model.predict_classes(x_test)"
   ]
  },
  {
   "cell_type": "code",
   "execution_count": 128,
   "metadata": {},
   "outputs": [
    {
     "name": "stdout",
     "output_type": "stream",
     "text": [
      "y_train shape: (60000,)\n",
      "x_train shape: (60000, 28, 28)\n",
      "y_test shape: (10000, 10)\n",
      "x_test shape: (10000, 28, 28, 1)\n"
     ]
    }
   ],
   "source": [
    "print(\"y_train shape: {}\".format(np.shape(y_train)))\n",
    "print(\"x_train shape: {}\".format(np.shape(x_train)))\n",
    "\n",
    "print(\"y_test shape: {}\".format(np.shape(y_test)))\n",
    "print(\"x_test shape: {}\".format(np.shape(x_test)))\n",
    "    "
   ]
  },
  {
   "cell_type": "code",
   "execution_count": 167,
   "metadata": {},
   "outputs": [
    {
     "name": "stdout",
     "output_type": "stream",
     "text": [
      "10000/10000 [==============================] - 3s 261us/step\n"
     ]
    }
   ],
   "source": [
    "evaluate = model.evaluate(x_test, y_test)"
   ]
  },
  {
   "cell_type": "markdown",
   "metadata": {},
   "source": [
    "oops! Looks like for some reason we don't need to conver the y_test to one-hot encoded. Let's reassign y_test"
   ]
  },
  {
   "cell_type": "code",
   "execution_count": 168,
   "metadata": {},
   "outputs": [
    {
     "name": "stdout",
     "output_type": "stream",
     "text": [
      "Loss: 0.039771064763779576\n",
      "Accuracy: 0.9876\n"
     ]
    }
   ],
   "source": [
    "print(\"Loss: {}\".format(evaluate[0]))\n",
    "print(\"Accuracy: {}\".format(evaluate[1]))"
   ]
  },
  {
   "cell_type": "markdown",
   "metadata": {},
   "source": [
    "### Let's see how we did in comparison to prediction"
   ]
  },
  {
   "cell_type": "code",
   "execution_count": 186,
   "metadata": {},
   "outputs": [
    {
     "name": "stdout",
     "output_type": "stream",
     "text": [
      "[7 2 1 ... 4 5 6]\n",
      "[7 2 1 ... 4 5 6]\n"
     ]
    }
   ],
   "source": [
    "print(predictions)\n",
    "tempList = []\n",
    "\n",
    "#this loop iterates through y_test and converts a format so we can compare to our predictions\n",
    "for row in y_test:\n",
    "    tempClass = np.argmax(row)\n",
    "    tempList.append(tempClass)\n",
    "\n",
    "\n",
    "y_testClasses = np.array(tempList)\n",
    "print(y_testClasses)"
   ]
  },
  {
   "cell_type": "code",
   "execution_count": 195,
   "metadata": {},
   "outputs": [],
   "source": [
    "wrongPredictionIndexes = []\n",
    "i = 0\n",
    "\n",
    "for actual, prediction in zip(y_testClasses, predictions):\n",
    "    if actual != prediction:\n",
    "        wrongPredictionIndexes.append(i)\n",
    "    i = i + 1"
   ]
  },
  {
   "cell_type": "code",
   "execution_count": 210,
   "metadata": {},
   "outputs": [
    {
     "data": {
      "text/plain": [
       "[62,\n",
       " 104,\n",
       " 321,\n",
       " 445,\n",
       " 449,\n",
       " 543,\n",
       " 582,\n",
       " 583,\n",
       " 674,\n",
       " 684,\n",
       " 726,\n",
       " 813,\n",
       " 882,\n",
       " 938,\n",
       " 947,\n",
       " 965,\n",
       " 1014,\n",
       " 1039,\n",
       " 1062,\n",
       " 1112,\n",
       " 1182,\n",
       " 1226,\n",
       " 1232,\n",
       " 1247,\n",
       " 1260,\n",
       " 1299,\n",
       " 1319,\n",
       " 1364,\n",
       " 1393,\n",
       " 1414,\n",
       " 1425,\n",
       " 1611,\n",
       " 1621,\n",
       " 1681,\n",
       " 1709,\n",
       " 1790,\n",
       " 1878,\n",
       " 1901,\n",
       " 2035,\n",
       " 2043,\n",
       " 2129,\n",
       " 2130,\n",
       " 2135,\n",
       " 2185,\n",
       " 2293,\n",
       " 2308,\n",
       " 2387,\n",
       " 2454,\n",
       " 2462,\n",
       " 2597,\n",
       " 2654,\n",
       " 2742,\n",
       " 2896,\n",
       " 2927,\n",
       " 2953,\n",
       " 2995,\n",
       " 3225,\n",
       " 3384,\n",
       " 3422,\n",
       " 3475,\n",
       " 3520,\n",
       " 3597,\n",
       " 3702,\n",
       " 3727,\n",
       " 3730,\n",
       " 3767,\n",
       " 3780,\n",
       " 3808,\n",
       " 3850,\n",
       " 3941,\n",
       " 3951,\n",
       " 3985,\n",
       " 4078,\n",
       " 4176,\n",
       " 4224,\n",
       " 4289,\n",
       " 4497,\n",
       " 4505,\n",
       " 4536,\n",
       " 4639,\n",
       " 4740,\n",
       " 4761,\n",
       " 4823,\n",
       " 4838,\n",
       " 4860,\n",
       " 4956,\n",
       " 5457,\n",
       " 5634,\n",
       " 5734,\n",
       " 5749,\n",
       " 5937,\n",
       " 5955,\n",
       " 6065,\n",
       " 6071,\n",
       " 6081,\n",
       " 6091,\n",
       " 6101,\n",
       " 6112,\n",
       " 6157,\n",
       " 6172,\n",
       " 6173,\n",
       " 6555,\n",
       " 6571,\n",
       " 6572,\n",
       " 6597,\n",
       " 6625,\n",
       " 6651,\n",
       " 6740,\n",
       " 6783,\n",
       " 7434,\n",
       " 7928,\n",
       " 8059,\n",
       " 8094,\n",
       " 8408,\n",
       " 8527,\n",
       " 9009,\n",
       " 9638,\n",
       " 9642,\n",
       " 9664,\n",
       " 9679,\n",
       " 9692,\n",
       " 9698,\n",
       " 9729,\n",
       " 9839]"
      ]
     },
     "execution_count": 210,
     "metadata": {},
     "output_type": "execute_result"
    }
   ],
   "source": [
    "wrongPredictionIndexes\n",
    "# print(len(wrongPredictionIndexes))"
   ]
  },
  {
   "cell_type": "code",
   "execution_count": 263,
   "metadata": {
    "scrolled": true
   },
   "outputs": [
    {
     "name": "stdout",
     "output_type": "stream",
     "text": [
      "[115  92]\n"
     ]
    },
    {
     "data": {
      "image/png": "[encoded data removed]",
      "text/plain": [
       "<Figure size 432x288 with 2 Axes>"
      ]
     },
     "metadata": {
      "needs_background": "light"
     },
     "output_type": "display_data"
    }
   ],
   "source": [
    "randomIntList = np.random.randint(len(wrongPredictionIndexes), size = 2)\n",
    "print(randomIntList)\n",
    "\n",
    "plot = 1\n",
    "plt.figure()\n",
    "for randomNum in randomIntList:\n",
    "    plt.subplot(1,len(randomIntList),plot)\n",
    "    imageIndex = wrongPredictionIndexes[randomNum]\n",
    "    plt.imshow(x_test[imageIndex], cmap = 'gray')\n",
    "    plt.title(\"Actual: \" + str(y_test[imageIndex]) + \"| Prediction: \" + str(predictions[imageIndex]))\n",
    "        \n",
    "    plot = plot + 1"
   ]
  }
 ],
 "metadata": {
  "kernelspec": {
   "display_name": "Python 3",
   "language": "python",
   "name": "python3"
  },
  "language_info": {
   "codemirror_mode": {
    "name": "ipython",
    "version": 3
   },
   "file_extension": ".py",
   "mimetype": "text/x-python",
   "name": "python",
   "nbconvert_exporter": "python",
   "pygments_lexer": "ipython3",
   "version": "3.6.6"
  }
 },
 "nbformat": 4,
 "nbformat_minor": 2
}
